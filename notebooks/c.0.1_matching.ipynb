{
 "cells": [
  {
   "attachments": {},
   "cell_type": "markdown",
   "metadata": {},
   "source": [
    "# Introduction"
   ]
  },
  {
   "attachments": {},
   "cell_type": "markdown",
   "metadata": {},
   "source": [
    "\n",
    "## Context\n",
    "A startup that sells software would like to know whether its multiple outreach efforts were successful in attracting new customers or boosting consumption among existing customers. They would also like to distinguish the effects of several incentives on different kinds of customers. In other words, they would like to learn the heterogeneous treatment effect of each investment on customers' software usage.\n",
    "\n",
    "In an ideal world, the startup would run several randomized experiments where each customer would receive a random assortment of investments. However, this can be logistically prohibitive or strategically unsound: the startup might not have the resources to design such experiments or they might not want to risk losing out on big opportunities due to lack of incentives.\n",
    "\n",
    "## Content\n",
    "The data* contains ~2,000 customers and is comprised of:\n",
    "\n",
    "Customer features: details about the industry, size, revenue, and technology profile of each customer.<br>\n",
    "Interventions: information about which incentive was given to a customer.<br>\n",
    "Outcome: the amount of product the customer bought in the year after the incentives were given.<br>"
   ]
  },
  {
   "attachments": {},
   "cell_type": "markdown",
   "metadata": {},
   "source": [
    "# Solution Planning"
   ]
  },
  {
   "attachments": {},
   "cell_type": "markdown",
   "metadata": {},
   "source": [
    "## IOT (Input, Output, Tasks)\n",
    "\n",
    "### Inputs\n",
    "- Data from customers and interventions (incentives given)\n",
    "\n",
    "### Outputs\n",
    "- Presentation with the results of the campaing, bringing the isolate effect of each incentive on the consumption of the clients\n",
    "\n",
    "### Tasks\n",
    "1. Get the data\n",
    "    (In this case we have the .csv file, but this step could involve writting a query to get the data from a data warehouse)\n",
    "2. Do an exploratory analysis to get acquainted with the features\n",
    "3. Apply Causal Inference techniques\n",
    "4. Make a presentation with the results"
   ]
  },
  {
   "attachments": {},
   "cell_type": "markdown",
   "metadata": {},
   "source": [
    "# Code"
   ]
  },
  {
   "attachments": {},
   "cell_type": "markdown",
   "metadata": {},
   "source": [
    "## 0.0 Imports"
   ]
  },
  {
   "cell_type": "code",
   "execution_count": 20,
   "metadata": {},
   "outputs": [],
   "source": [
    "import pandas as pd\n",
    "import numpy as np \n",
    "\n",
    "import seaborn as sns\n",
    "\n",
    "from IPython.core.display  import HTML\n",
    "from IPython.display       import Image\n",
    "\n",
    "from psmpy import PsmPy\n",
    "from psmpy.functions import cohenD\n",
    "from psmpy.plotting import *\n",
    "\n",
    "\n",
    "from scipy.stats import ttest_ind, shapiro, mannwhitneyu\n",
    "\n",
    "from causalml.match import create_table_one\n",
    "\n",
    "from sklearn.neighbors import NearestNeighbors\n",
    "from sklearn.linear_model import LogisticRegression\n"
   ]
  },
  {
   "attachments": {},
   "cell_type": "markdown",
   "metadata": {},
   "source": [
    "### 0.1 Data"
   ]
  },
  {
   "cell_type": "code",
   "execution_count": 2,
   "metadata": {},
   "outputs": [],
   "source": [
    "data_raw = pd.read_csv('../data/multi_attribution_sample.csv')"
   ]
  },
  {
   "cell_type": "code",
   "execution_count": 3,
   "metadata": {},
   "outputs": [
    {
     "data": {
      "text/html": [
       "<div>\n",
       "<style scoped>\n",
       "    .dataframe tbody tr th:only-of-type {\n",
       "        vertical-align: middle;\n",
       "    }\n",
       "\n",
       "    .dataframe tbody tr th {\n",
       "        vertical-align: top;\n",
       "    }\n",
       "\n",
       "    .dataframe thead th {\n",
       "        text-align: right;\n",
       "    }\n",
       "</style>\n",
       "<table border=\"1\" class=\"dataframe\">\n",
       "  <thead>\n",
       "    <tr style=\"text-align: right;\">\n",
       "      <th></th>\n",
       "      <th>Global Flag</th>\n",
       "      <th>Major Flag</th>\n",
       "      <th>SMC Flag</th>\n",
       "      <th>Commercial Flag</th>\n",
       "      <th>IT Spend</th>\n",
       "      <th>Employee Count</th>\n",
       "      <th>PC Count</th>\n",
       "      <th>Size</th>\n",
       "      <th>Tech Support</th>\n",
       "      <th>Discount</th>\n",
       "      <th>Revenue</th>\n",
       "    </tr>\n",
       "  </thead>\n",
       "  <tbody>\n",
       "    <tr>\n",
       "      <th>0</th>\n",
       "      <td>1</td>\n",
       "      <td>0</td>\n",
       "      <td>1</td>\n",
       "      <td>0</td>\n",
       "      <td>45537</td>\n",
       "      <td>26</td>\n",
       "      <td>26</td>\n",
       "      <td>152205</td>\n",
       "      <td>0</td>\n",
       "      <td>1</td>\n",
       "      <td>17688.36300</td>\n",
       "    </tr>\n",
       "    <tr>\n",
       "      <th>1</th>\n",
       "      <td>0</td>\n",
       "      <td>0</td>\n",
       "      <td>1</td>\n",
       "      <td>1</td>\n",
       "      <td>20842</td>\n",
       "      <td>107</td>\n",
       "      <td>70</td>\n",
       "      <td>159038</td>\n",
       "      <td>0</td>\n",
       "      <td>1</td>\n",
       "      <td>14981.43559</td>\n",
       "    </tr>\n",
       "    <tr>\n",
       "      <th>2</th>\n",
       "      <td>0</td>\n",
       "      <td>0</td>\n",
       "      <td>0</td>\n",
       "      <td>1</td>\n",
       "      <td>82171</td>\n",
       "      <td>10</td>\n",
       "      <td>7</td>\n",
       "      <td>264935</td>\n",
       "      <td>1</td>\n",
       "      <td>1</td>\n",
       "      <td>32917.13894</td>\n",
       "    </tr>\n",
       "    <tr>\n",
       "      <th>3</th>\n",
       "      <td>0</td>\n",
       "      <td>0</td>\n",
       "      <td>0</td>\n",
       "      <td>0</td>\n",
       "      <td>30288</td>\n",
       "      <td>40</td>\n",
       "      <td>39</td>\n",
       "      <td>77522</td>\n",
       "      <td>1</td>\n",
       "      <td>1</td>\n",
       "      <td>14773.76855</td>\n",
       "    </tr>\n",
       "    <tr>\n",
       "      <th>4</th>\n",
       "      <td>0</td>\n",
       "      <td>0</td>\n",
       "      <td>1</td>\n",
       "      <td>0</td>\n",
       "      <td>25930</td>\n",
       "      <td>37</td>\n",
       "      <td>43</td>\n",
       "      <td>91446</td>\n",
       "      <td>1</td>\n",
       "      <td>1</td>\n",
       "      <td>17098.69823</td>\n",
       "    </tr>\n",
       "  </tbody>\n",
       "</table>\n",
       "</div>"
      ],
      "text/plain": [
       "   Global Flag  Major Flag  SMC Flag  Commercial Flag  IT Spend  \\\n",
       "0            1           0         1                0     45537   \n",
       "1            0           0         1                1     20842   \n",
       "2            0           0         0                1     82171   \n",
       "3            0           0         0                0     30288   \n",
       "4            0           0         1                0     25930   \n",
       "\n",
       "   Employee Count  PC Count    Size  Tech Support  Discount      Revenue  \n",
       "0              26        26  152205             0         1  17688.36300  \n",
       "1             107        70  159038             0         1  14981.43559  \n",
       "2              10         7  264935             1         1  32917.13894  \n",
       "3              40        39   77522             1         1  14773.76855  \n",
       "4              37        43   91446             1         1  17098.69823  "
      ]
     },
     "execution_count": 3,
     "metadata": {},
     "output_type": "execute_result"
    }
   ],
   "source": [
    "data_raw.head()"
   ]
  },
  {
   "attachments": {},
   "cell_type": "markdown",
   "metadata": {},
   "source": [
    "### 0.2 Auxiliar functions"
   ]
  },
  {
   "cell_type": "code",
   "execution_count": 4,
   "metadata": {},
   "outputs": [
    {
     "data": {
      "text/html": [
       "<style>.container { width:100% !important; }</style>"
      ],
      "text/plain": [
       "<IPython.core.display.HTML object>"
      ]
     },
     "metadata": {},
     "output_type": "display_data"
    }
   ],
   "source": [
    "def jupyter_settings():\n",
    "    %matplotlib inline\n",
    "   # %pylab inline\n",
    "    \n",
    "    plt.style.use( 'bmh' )\n",
    "    plt.rcParams['figure.figsize'] = [25, 12]\n",
    "    plt.rcParams['font.size'] = 24\n",
    "    \n",
    "    display( HTML( '<style>.container { width:100% !important; }</style>') )\n",
    "    pd.options.display.max_columns = 100\n",
    "    pd.options.display.max_rows = 100\n",
    "    pd.set_option( 'display.expand_frame_repr', False )\n",
    "    \n",
    "    sns.set()\n",
    "jupyter_settings()\n",
    "\n",
    "\n",
    "pd.set_option('display.float_format', lambda x: '%.3f' % x)"
   ]
  },
  {
   "attachments": {},
   "cell_type": "markdown",
   "metadata": {},
   "source": [
    "## 1.0 Descriptive analysis"
   ]
  },
  {
   "cell_type": "code",
   "execution_count": 5,
   "metadata": {},
   "outputs": [],
   "source": [
    "data_description = data_raw.copy()"
   ]
  },
  {
   "attachments": {},
   "cell_type": "markdown",
   "metadata": {},
   "source": [
    "### 1.1 Renaming columns (to snake case)"
   ]
  },
  {
   "cell_type": "code",
   "execution_count": 6,
   "metadata": {},
   "outputs": [],
   "source": [
    "new_columns = [i.lower().replace(' ', '_') for i in data_description.columns]\n",
    "data_description.columns = new_columns\n",
    "    "
   ]
  },
  {
   "cell_type": "code",
   "execution_count": 7,
   "metadata": {},
   "outputs": [
    {
     "data": {
      "text/html": [
       "<div>\n",
       "<style scoped>\n",
       "    .dataframe tbody tr th:only-of-type {\n",
       "        vertical-align: middle;\n",
       "    }\n",
       "\n",
       "    .dataframe tbody tr th {\n",
       "        vertical-align: top;\n",
       "    }\n",
       "\n",
       "    .dataframe thead th {\n",
       "        text-align: right;\n",
       "    }\n",
       "</style>\n",
       "<table border=\"1\" class=\"dataframe\">\n",
       "  <thead>\n",
       "    <tr style=\"text-align: right;\">\n",
       "      <th></th>\n",
       "      <th>global_flag</th>\n",
       "      <th>major_flag</th>\n",
       "      <th>smc_flag</th>\n",
       "      <th>commercial_flag</th>\n",
       "      <th>it_spend</th>\n",
       "      <th>employee_count</th>\n",
       "      <th>pc_count</th>\n",
       "      <th>size</th>\n",
       "      <th>tech_support</th>\n",
       "      <th>discount</th>\n",
       "      <th>revenue</th>\n",
       "    </tr>\n",
       "  </thead>\n",
       "  <tbody>\n",
       "    <tr>\n",
       "      <th>0</th>\n",
       "      <td>1</td>\n",
       "      <td>0</td>\n",
       "      <td>1</td>\n",
       "      <td>0</td>\n",
       "      <td>45537</td>\n",
       "      <td>26</td>\n",
       "      <td>26</td>\n",
       "      <td>152205</td>\n",
       "      <td>0</td>\n",
       "      <td>1</td>\n",
       "      <td>17688.363</td>\n",
       "    </tr>\n",
       "    <tr>\n",
       "      <th>1</th>\n",
       "      <td>0</td>\n",
       "      <td>0</td>\n",
       "      <td>1</td>\n",
       "      <td>1</td>\n",
       "      <td>20842</td>\n",
       "      <td>107</td>\n",
       "      <td>70</td>\n",
       "      <td>159038</td>\n",
       "      <td>0</td>\n",
       "      <td>1</td>\n",
       "      <td>14981.436</td>\n",
       "    </tr>\n",
       "    <tr>\n",
       "      <th>2</th>\n",
       "      <td>0</td>\n",
       "      <td>0</td>\n",
       "      <td>0</td>\n",
       "      <td>1</td>\n",
       "      <td>82171</td>\n",
       "      <td>10</td>\n",
       "      <td>7</td>\n",
       "      <td>264935</td>\n",
       "      <td>1</td>\n",
       "      <td>1</td>\n",
       "      <td>32917.139</td>\n",
       "    </tr>\n",
       "    <tr>\n",
       "      <th>3</th>\n",
       "      <td>0</td>\n",
       "      <td>0</td>\n",
       "      <td>0</td>\n",
       "      <td>0</td>\n",
       "      <td>30288</td>\n",
       "      <td>40</td>\n",
       "      <td>39</td>\n",
       "      <td>77522</td>\n",
       "      <td>1</td>\n",
       "      <td>1</td>\n",
       "      <td>14773.769</td>\n",
       "    </tr>\n",
       "    <tr>\n",
       "      <th>4</th>\n",
       "      <td>0</td>\n",
       "      <td>0</td>\n",
       "      <td>1</td>\n",
       "      <td>0</td>\n",
       "      <td>25930</td>\n",
       "      <td>37</td>\n",
       "      <td>43</td>\n",
       "      <td>91446</td>\n",
       "      <td>1</td>\n",
       "      <td>1</td>\n",
       "      <td>17098.698</td>\n",
       "    </tr>\n",
       "  </tbody>\n",
       "</table>\n",
       "</div>"
      ],
      "text/plain": [
       "   global_flag  major_flag  smc_flag  commercial_flag  it_spend  employee_count  pc_count    size  tech_support  discount   revenue\n",
       "0            1           0         1                0     45537              26        26  152205             0         1 17688.363\n",
       "1            0           0         1                1     20842             107        70  159038             0         1 14981.436\n",
       "2            0           0         0                1     82171              10         7  264935             1         1 32917.139\n",
       "3            0           0         0                0     30288              40        39   77522             1         1 14773.769\n",
       "4            0           0         1                0     25930              37        43   91446             1         1 17098.698"
      ]
     },
     "execution_count": 7,
     "metadata": {},
     "output_type": "execute_result"
    }
   ],
   "source": [
    "data_description.head()"
   ]
  },
  {
   "attachments": {},
   "cell_type": "markdown",
   "metadata": {},
   "source": [
    "## 2.0 Causal Inference"
   ]
  },
  {
   "attachments": {},
   "cell_type": "markdown",
   "metadata": {},
   "source": [
    "tech_support -> revenue <br>\n",
    "tech_support <- size -> revenue <br>\n",
    "tech_support <- size -> discount -> revenue <br>"
   ]
  },
  {
   "cell_type": "code",
   "execution_count": 19,
   "metadata": {},
   "outputs": [
    {
     "name": "stdout",
     "output_type": "stream",
     "text": [
      "data dont folow a normal distribution (reject H0) so we must use Wilcoxon-Mann-Whitne to test the mean differences \n",
      "Valor p: 0.00000\n"
     ]
    }
   ],
   "source": [
    "_, p = shapiro(data_description['revenue'])\n",
    "\n",
    "alpha = 0.05  # significance level\n",
    "if p > alpha:\n",
    "    print('data follows a normal distribution (H0)')\n",
    "else:\n",
    "    print('data dont folow a normal distribution (reject H0) so we must use Wilcoxon-Mann-Whitne to test the mean differences ')\n",
    "\n",
    "print('Valor p: %.5f' % p)"
   ]
  },
  {
   "cell_type": "code",
   "execution_count": 102,
   "metadata": {},
   "outputs": [
    {
     "name": "stdout",
     "output_type": "stream",
     "text": [
      "9302.989442380383 21420.142482802188\n",
      "1.302500998788767\n",
      "p=0.000\n",
      "different distributions/different group mean (reject H0)\n"
     ]
    }
   ],
   "source": [
    "data_control = data_description.loc[data_description['tech_support'] == 0]\n",
    "data_treatment = data_description.loc[data_description['tech_support'] == 1]\n",
    "\n",
    "print(data_control['revenue'].mean(), data_treatment['revenue'].mean())\n",
    "print((np.mean(data_treatment['revenue']) - np.mean(data_control['revenue'])) / np.mean(data_control['revenue']))\n",
    "# compare samples\n",
    "_, p = mannwhitneyu(data_control['revenue'], data_treatment['revenue'])\n",
    "print(f'p={p:.3f}')\n",
    "\n",
    "# interpret\n",
    "alpha = 0.05  # significance level\n",
    "if p > alpha:\n",
    "    print('same distributions/same group mean (fail to reject H0 - we do not have enough evidence to reject H0)')\n",
    "else:\n",
    "    print('different distributions/different group mean (reject H0)')"
   ]
  },
  {
   "cell_type": "code",
   "execution_count": 138,
   "metadata": {},
   "outputs": [
    {
     "name": "stdout",
     "output_type": "stream",
     "text": [
      "10605.72582761522 19992.976746513028\n",
      "0.8851115964600231\n",
      "p=0.000\n",
      "different distributions/different group mean (reject H0)\n"
     ]
    }
   ],
   "source": [
    "data_control = data_description.loc[data_description['discount'] == 0]\n",
    "data_treatment = data_description.loc[data_description['discount'] == 1]\n",
    "\n",
    "print(data_control['revenue'].mean(), data_treatment['revenue'].mean())\n",
    "print((np.mean(data_treatment['revenue']) - np.mean(data_control['revenue'])) / np.mean(data_control['revenue']))\n",
    "\n",
    "# compare samples\n",
    "_, p = mannwhitneyu(data_control['revenue'], data_treatment['revenue'])\n",
    "print(f'p={p:.3f}')\n",
    "\n",
    "# interpret\n",
    "alpha = 0.05  # significance level\n",
    "if p > alpha:\n",
    "    print('same distributions/same group mean (fail to reject H0 - we do not have enough evidence to reject H0)')\n",
    "else:\n",
    "    print('different distributions/different group mean (reject H0)')"
   ]
  },
  {
   "cell_type": "code",
   "execution_count": 12,
   "metadata": {},
   "outputs": [
    {
     "data": {
      "text/plain": [
       "Index(['global_flag', 'major_flag', 'smc_flag', 'commercial_flag', 'it_spend',\n",
       "       'employee_count', 'pc_count', 'size', 'tech_support', 'discount',\n",
       "       'revenue'],\n",
       "      dtype='object')"
      ]
     },
     "execution_count": 12,
     "metadata": {},
     "output_type": "execute_result"
    }
   ],
   "source": [
    "data_description.columns"
   ]
  },
  {
   "cell_type": "code",
   "execution_count": 24,
   "metadata": {},
   "outputs": [
    {
     "data": {
      "text/html": [
       "<div>\n",
       "<style scoped>\n",
       "    .dataframe tbody tr th:only-of-type {\n",
       "        vertical-align: middle;\n",
       "    }\n",
       "\n",
       "    .dataframe tbody tr th {\n",
       "        vertical-align: top;\n",
       "    }\n",
       "\n",
       "    .dataframe thead th {\n",
       "        text-align: right;\n",
       "    }\n",
       "</style>\n",
       "<table border=\"1\" class=\"dataframe\">\n",
       "  <thead>\n",
       "    <tr style=\"text-align: right;\">\n",
       "      <th></th>\n",
       "      <th>Control</th>\n",
       "      <th>Treatment</th>\n",
       "      <th>SMD</th>\n",
       "    </tr>\n",
       "    <tr>\n",
       "      <th>Variable</th>\n",
       "      <th></th>\n",
       "      <th></th>\n",
       "      <th></th>\n",
       "    </tr>\n",
       "  </thead>\n",
       "  <tbody>\n",
       "    <tr>\n",
       "      <th>n</th>\n",
       "      <td>994</td>\n",
       "      <td>1006</td>\n",
       "      <td></td>\n",
       "    </tr>\n",
       "    <tr>\n",
       "      <th>commercial_flag</th>\n",
       "      <td>0.72 (0.45)</td>\n",
       "      <td>0.67 (0.47)</td>\n",
       "      <td>-0.105</td>\n",
       "    </tr>\n",
       "    <tr>\n",
       "      <th>discount</th>\n",
       "      <td>0.48 (0.50)</td>\n",
       "      <td>0.54 (0.50)</td>\n",
       "      <td>0.122</td>\n",
       "    </tr>\n",
       "    <tr>\n",
       "      <th>employee_count</th>\n",
       "      <td>59.63 (53.95)</td>\n",
       "      <td>62.58 (52.94)</td>\n",
       "      <td>0.055</td>\n",
       "    </tr>\n",
       "    <tr>\n",
       "      <th>global_flag</th>\n",
       "      <td>0.19 (0.39)</td>\n",
       "      <td>0.21 (0.41)</td>\n",
       "      <td>0.059</td>\n",
       "    </tr>\n",
       "    <tr>\n",
       "      <th>it_spend</th>\n",
       "      <td>21066.49 (20431.96)</td>\n",
       "      <td>35392.95 (32680.07)</td>\n",
       "      <td>0.526</td>\n",
       "    </tr>\n",
       "    <tr>\n",
       "      <th>major_flag</th>\n",
       "      <td>0.18 (0.38)</td>\n",
       "      <td>0.21 (0.41)</td>\n",
       "      <td>0.095</td>\n",
       "    </tr>\n",
       "    <tr>\n",
       "      <th>pc_count</th>\n",
       "      <td>56.13 (53.09)</td>\n",
       "      <td>58.55 (52.63)</td>\n",
       "      <td>0.046</td>\n",
       "    </tr>\n",
       "    <tr>\n",
       "      <th>size</th>\n",
       "      <td>83191.32 (71555.11)</td>\n",
       "      <td>142769.45 (116019.33)</td>\n",
       "      <td>0.618</td>\n",
       "    </tr>\n",
       "    <tr>\n",
       "      <th>smc_flag</th>\n",
       "      <td>0.51 (0.50)</td>\n",
       "      <td>0.50 (0.50)</td>\n",
       "      <td>-0.038</td>\n",
       "    </tr>\n",
       "  </tbody>\n",
       "</table>\n",
       "</div>"
      ],
      "text/plain": [
       "                             Control              Treatment    SMD\n",
       "Variable                                                          \n",
       "n                                994                   1006       \n",
       "commercial_flag          0.72 (0.45)            0.67 (0.47) -0.105\n",
       "discount                 0.48 (0.50)            0.54 (0.50)  0.122\n",
       "employee_count         59.63 (53.95)          62.58 (52.94)  0.055\n",
       "global_flag              0.19 (0.39)            0.21 (0.41)  0.059\n",
       "it_spend         21066.49 (20431.96)    35392.95 (32680.07)  0.526\n",
       "major_flag               0.18 (0.38)            0.21 (0.41)  0.095\n",
       "pc_count               56.13 (53.09)          58.55 (52.63)  0.046\n",
       "size             83191.32 (71555.11)  142769.45 (116019.33)  0.618\n",
       "smc_flag                 0.51 (0.50)            0.50 (0.50) -0.038"
      ]
     },
     "execution_count": 24,
     "metadata": {},
     "output_type": "execute_result"
    }
   ],
   "source": [
    "X = ['global_flag', 'major_flag', 'smc_flag', 'commercial_flag', 'it_spend',\n",
    "       'employee_count', 'pc_count', 'size', 'discount']\n",
    "table1 = create_table_one(data_description, 'tech_support', X)\n",
    "table1"
   ]
  },
  {
   "cell_type": "code",
   "execution_count": 25,
   "metadata": {},
   "outputs": [
    {
     "data": {
      "text/html": [
       "<div>\n",
       "<style scoped>\n",
       "    .dataframe tbody tr th:only-of-type {\n",
       "        vertical-align: middle;\n",
       "    }\n",
       "\n",
       "    .dataframe tbody tr th {\n",
       "        vertical-align: top;\n",
       "    }\n",
       "\n",
       "    .dataframe thead th {\n",
       "        text-align: right;\n",
       "    }\n",
       "</style>\n",
       "<table border=\"1\" class=\"dataframe\">\n",
       "  <thead>\n",
       "    <tr style=\"text-align: right;\">\n",
       "      <th></th>\n",
       "      <th>Control</th>\n",
       "      <th>Treatment</th>\n",
       "      <th>SMD</th>\n",
       "    </tr>\n",
       "    <tr>\n",
       "      <th>Variable</th>\n",
       "      <th></th>\n",
       "      <th></th>\n",
       "      <th></th>\n",
       "    </tr>\n",
       "  </thead>\n",
       "  <tbody>\n",
       "    <tr>\n",
       "      <th>n</th>\n",
       "      <td>979</td>\n",
       "      <td>1021</td>\n",
       "      <td></td>\n",
       "    </tr>\n",
       "    <tr>\n",
       "      <th>commercial_flag</th>\n",
       "      <td>0.69 (0.46)</td>\n",
       "      <td>0.69 (0.46)</td>\n",
       "      <td>-0.011</td>\n",
       "    </tr>\n",
       "    <tr>\n",
       "      <th>employee_count</th>\n",
       "      <td>60.29 (53.27)</td>\n",
       "      <td>61.91 (53.64)</td>\n",
       "      <td>0.030</td>\n",
       "    </tr>\n",
       "    <tr>\n",
       "      <th>global_flag</th>\n",
       "      <td>0.20 (0.40)</td>\n",
       "      <td>0.20 (0.40)</td>\n",
       "      <td>-0.001</td>\n",
       "    </tr>\n",
       "    <tr>\n",
       "      <th>it_spend</th>\n",
       "      <td>22915.61 (24072.31)</td>\n",
       "      <td>33409.43 (30817.72)</td>\n",
       "      <td>0.380</td>\n",
       "    </tr>\n",
       "    <tr>\n",
       "      <th>major_flag</th>\n",
       "      <td>0.21 (0.41)</td>\n",
       "      <td>0.18 (0.39)</td>\n",
       "      <td>-0.071</td>\n",
       "    </tr>\n",
       "    <tr>\n",
       "      <th>pc_count</th>\n",
       "      <td>56.11 (51.51)</td>\n",
       "      <td>58.53 (54.13)</td>\n",
       "      <td>0.046</td>\n",
       "    </tr>\n",
       "    <tr>\n",
       "      <th>size</th>\n",
       "      <td>88892.64 (78095.11)</td>\n",
       "      <td>136427.37 (114158.66)</td>\n",
       "      <td>0.486</td>\n",
       "    </tr>\n",
       "    <tr>\n",
       "      <th>smc_flag</th>\n",
       "      <td>0.51 (0.50)</td>\n",
       "      <td>0.50 (0.50)</td>\n",
       "      <td>-0.016</td>\n",
       "    </tr>\n",
       "    <tr>\n",
       "      <th>tech_support</th>\n",
       "      <td>0.47 (0.50)</td>\n",
       "      <td>0.53 (0.50)</td>\n",
       "      <td>0.122</td>\n",
       "    </tr>\n",
       "  </tbody>\n",
       "</table>\n",
       "</div>"
      ],
      "text/plain": [
       "                             Control              Treatment    SMD\n",
       "Variable                                                          \n",
       "n                                979                   1021       \n",
       "commercial_flag          0.69 (0.46)            0.69 (0.46) -0.011\n",
       "employee_count         60.29 (53.27)          61.91 (53.64)  0.030\n",
       "global_flag              0.20 (0.40)            0.20 (0.40) -0.001\n",
       "it_spend         22915.61 (24072.31)    33409.43 (30817.72)  0.380\n",
       "major_flag               0.21 (0.41)            0.18 (0.39) -0.071\n",
       "pc_count               56.11 (51.51)          58.53 (54.13)  0.046\n",
       "size             88892.64 (78095.11)  136427.37 (114158.66)  0.486\n",
       "smc_flag                 0.51 (0.50)            0.50 (0.50) -0.016\n",
       "tech_support             0.47 (0.50)            0.53 (0.50)  0.122"
      ]
     },
     "execution_count": 25,
     "metadata": {},
     "output_type": "execute_result"
    }
   ],
   "source": [
    "X = ['global_flag', 'major_flag', 'smc_flag', 'commercial_flag', 'it_spend',\n",
    "       'employee_count', 'pc_count', 'size', 'tech_support']\n",
    "table1 = create_table_one(data_description, 'discount', X)\n",
    "table1"
   ]
  },
  {
   "attachments": {},
   "cell_type": "markdown",
   "metadata": {},
   "source": [
    "It should not be assumed that these differences in means represent the average causal effect. This is primarily due to the fact that the treatments were not randomly assigned, as in an A/B test. Through our causal discovery analysis, we have determined that size is a critical factor in determining which clients should receive treatment, and that size directly impacts revenue. Therefore, if we want to accurately measure the causal effect of our treatments, we must utilize observational or quasi-experimental techniques."
   ]
  },
  {
   "attachments": {},
   "cell_type": "markdown",
   "metadata": {},
   "source": [
    "### 2.2 First method to infer causal effects: Propensity Score Matching"
   ]
  },
  {
   "cell_type": "code",
   "execution_count": 26,
   "metadata": {},
   "outputs": [],
   "source": [
    "data_matching = data_description.copy()"
   ]
  },
  {
   "attachments": {},
   "cell_type": "markdown",
   "metadata": {},
   "source": [
    "#### 2.2.1 Effect of Tech Support"
   ]
  },
  {
   "attachments": {},
   "cell_type": "markdown",
   "metadata": {},
   "source": [
    "#### 1st: Calculate Propensity Score for all units given each treatment"
   ]
  },
  {
   "attachments": {},
   "cell_type": "markdown",
   "metadata": {},
   "source": [
    "To accomplish this task, I plan to conduct a Logistic Regression analysis, utilizing the main variables in the DAG, namely tech_support, size, revenue, and discount."
   ]
  },
  {
   "cell_type": "code",
   "execution_count": 28,
   "metadata": {},
   "outputs": [
    {
     "data": {
      "text/plain": [
       "Index(['global_flag', 'major_flag', 'smc_flag', 'commercial_flag', 'it_spend',\n",
       "       'employee_count', 'pc_count', 'size', 'tech_support', 'discount',\n",
       "       'revenue'],\n",
       "      dtype='object')"
      ]
     },
     "execution_count": 28,
     "metadata": {},
     "output_type": "execute_result"
    }
   ],
   "source": [
    "data_matching.columns"
   ]
  },
  {
   "cell_type": "code",
   "execution_count": 29,
   "metadata": {},
   "outputs": [],
   "source": [
    "X = data_matching[['discount', 'size', 'it_spend']]\n",
    "y = data_matching['tech_support']"
   ]
  },
  {
   "cell_type": "code",
   "execution_count": 32,
   "metadata": {},
   "outputs": [
    {
     "data": {
      "text/plain": [
       "LogisticRegression()"
      ]
     },
     "execution_count": 32,
     "metadata": {},
     "output_type": "execute_result"
    }
   ],
   "source": [
    "lr = LogisticRegression()\n",
    "lr.fit(X,y)"
   ]
  },
  {
   "cell_type": "code",
   "execution_count": 35,
   "metadata": {},
   "outputs": [
    {
     "data": {
      "text/html": [
       "<div>\n",
       "<style scoped>\n",
       "    .dataframe tbody tr th:only-of-type {\n",
       "        vertical-align: middle;\n",
       "    }\n",
       "\n",
       "    .dataframe tbody tr th {\n",
       "        vertical-align: top;\n",
       "    }\n",
       "\n",
       "    .dataframe thead th {\n",
       "        text-align: right;\n",
       "    }\n",
       "</style>\n",
       "<table border=\"1\" class=\"dataframe\">\n",
       "  <thead>\n",
       "    <tr style=\"text-align: right;\">\n",
       "      <th></th>\n",
       "      <th>column</th>\n",
       "      <th>coeficient</th>\n",
       "    </tr>\n",
       "  </thead>\n",
       "  <tbody>\n",
       "    <tr>\n",
       "      <th>0</th>\n",
       "      <td>discount</td>\n",
       "      <td>-0.000</td>\n",
       "    </tr>\n",
       "    <tr>\n",
       "      <th>1</th>\n",
       "      <td>size</td>\n",
       "      <td>0.000</td>\n",
       "    </tr>\n",
       "    <tr>\n",
       "      <th>2</th>\n",
       "      <td>it_spend</td>\n",
       "      <td>-0.000</td>\n",
       "    </tr>\n",
       "  </tbody>\n",
       "</table>\n",
       "</div>"
      ],
      "text/plain": [
       "     column  coeficient\n",
       "0  discount      -0.000\n",
       "1      size       0.000\n",
       "2  it_spend      -0.000"
      ]
     },
     "execution_count": 35,
     "metadata": {},
     "output_type": "execute_result"
    }
   ],
   "source": [
    "coeficients = pd.DataFrame({'column': X.columns.to_numpy(), 'coeficient':lr.coef_.ravel()})\n",
    "coeficients"
   ]
  },
  {
   "cell_type": "code",
   "execution_count": 36,
   "metadata": {},
   "outputs": [
    {
     "name": "stdout",
     "output_type": "stream",
     "text": [
      "the binary prediction is: 1\n",
      "the corresponding probabilities are: [0.39981904 0.60018096]\n"
     ]
    }
   ],
   "source": [
    "# prediction\n",
    "pred_binary = lr.predict(X)  # binary 0 control, 1, treatment\n",
    "pred_prob = lr.predict_proba(X)  # probabilities for classes\n",
    "\n",
    "print('the binary prediction is:', pred_binary[0])\n",
    "print('the corresponding probabilities are:', pred_prob[0])"
   ]
  },
  {
   "cell_type": "code",
   "execution_count": 39,
   "metadata": {},
   "outputs": [
    {
     "data": {
      "text/html": [
       "<div>\n",
       "<style scoped>\n",
       "    .dataframe tbody tr th:only-of-type {\n",
       "        vertical-align: middle;\n",
       "    }\n",
       "\n",
       "    .dataframe tbody tr th {\n",
       "        vertical-align: top;\n",
       "    }\n",
       "\n",
       "    .dataframe thead th {\n",
       "        text-align: right;\n",
       "    }\n",
       "</style>\n",
       "<table border=\"1\" class=\"dataframe\">\n",
       "  <thead>\n",
       "    <tr style=\"text-align: right;\">\n",
       "      <th></th>\n",
       "      <th>global_flag</th>\n",
       "      <th>major_flag</th>\n",
       "      <th>smc_flag</th>\n",
       "      <th>commercial_flag</th>\n",
       "      <th>it_spend</th>\n",
       "      <th>employee_count</th>\n",
       "      <th>pc_count</th>\n",
       "      <th>size</th>\n",
       "      <th>tech_support</th>\n",
       "      <th>discount</th>\n",
       "      <th>revenue</th>\n",
       "      <th>ps</th>\n",
       "      <th>ps_logit</th>\n",
       "    </tr>\n",
       "  </thead>\n",
       "  <tbody>\n",
       "    <tr>\n",
       "      <th>0</th>\n",
       "      <td>1</td>\n",
       "      <td>0</td>\n",
       "      <td>1</td>\n",
       "      <td>0</td>\n",
       "      <td>45537</td>\n",
       "      <td>26</td>\n",
       "      <td>26</td>\n",
       "      <td>152205</td>\n",
       "      <td>0</td>\n",
       "      <td>1</td>\n",
       "      <td>17688.363</td>\n",
       "      <td>0.600</td>\n",
       "      <td>0.406</td>\n",
       "    </tr>\n",
       "    <tr>\n",
       "      <th>1</th>\n",
       "      <td>0</td>\n",
       "      <td>0</td>\n",
       "      <td>1</td>\n",
       "      <td>1</td>\n",
       "      <td>20842</td>\n",
       "      <td>107</td>\n",
       "      <td>70</td>\n",
       "      <td>159038</td>\n",
       "      <td>0</td>\n",
       "      <td>1</td>\n",
       "      <td>14981.436</td>\n",
       "      <td>0.625</td>\n",
       "      <td>0.510</td>\n",
       "    </tr>\n",
       "    <tr>\n",
       "      <th>2</th>\n",
       "      <td>0</td>\n",
       "      <td>0</td>\n",
       "      <td>0</td>\n",
       "      <td>1</td>\n",
       "      <td>82171</td>\n",
       "      <td>10</td>\n",
       "      <td>7</td>\n",
       "      <td>264935</td>\n",
       "      <td>1</td>\n",
       "      <td>1</td>\n",
       "      <td>32917.139</td>\n",
       "      <td>0.668</td>\n",
       "      <td>0.698</td>\n",
       "    </tr>\n",
       "    <tr>\n",
       "      <th>3</th>\n",
       "      <td>0</td>\n",
       "      <td>0</td>\n",
       "      <td>0</td>\n",
       "      <td>0</td>\n",
       "      <td>30288</td>\n",
       "      <td>40</td>\n",
       "      <td>39</td>\n",
       "      <td>77522</td>\n",
       "      <td>1</td>\n",
       "      <td>1</td>\n",
       "      <td>14773.769</td>\n",
       "      <td>0.546</td>\n",
       "      <td>0.184</td>\n",
       "    </tr>\n",
       "    <tr>\n",
       "      <th>4</th>\n",
       "      <td>0</td>\n",
       "      <td>0</td>\n",
       "      <td>1</td>\n",
       "      <td>0</td>\n",
       "      <td>25930</td>\n",
       "      <td>37</td>\n",
       "      <td>43</td>\n",
       "      <td>91446</td>\n",
       "      <td>1</td>\n",
       "      <td>1</td>\n",
       "      <td>17098.698</td>\n",
       "      <td>0.562</td>\n",
       "      <td>0.249</td>\n",
       "    </tr>\n",
       "  </tbody>\n",
       "</table>\n",
       "</div>"
      ],
      "text/plain": [
       "   global_flag  major_flag  smc_flag  commercial_flag  it_spend  employee_count  pc_count    size  tech_support  discount   revenue    ps  ps_logit\n",
       "0            1           0         1                0     45537              26        26  152205             0         1 17688.363 0.600     0.406\n",
       "1            0           0         1                1     20842             107        70  159038             0         1 14981.436 0.625     0.510\n",
       "2            0           0         0                1     82171              10         7  264935             1         1 32917.139 0.668     0.698\n",
       "3            0           0         0                0     30288              40        39   77522             1         1 14773.769 0.546     0.184\n",
       "4            0           0         1                0     25930              37        43   91446             1         1 17098.698 0.562     0.249"
      ]
     },
     "execution_count": 39,
     "metadata": {},
     "output_type": "execute_result"
    }
   ],
   "source": [
    "# the propensity score (ps) is the probability of being 1 (i.e., in the treatment group)\n",
    "data_matching['ps'] = pred_prob[:, 1]\n",
    "\n",
    "# calculate the logit of the propensity score for matching if needed\n",
    "def logit(p):\n",
    "    logit_value = math.log(p / (1-p))\n",
    "    return logit_value\n",
    "\n",
    "data_matching['ps_logit'] = data_matching.ps.apply(lambda x: logit(x))\n",
    "\n",
    "data_matching.head()"
   ]
  },
  {
   "cell_type": "code",
   "execution_count": 43,
   "metadata": {},
   "outputs": [
    {
     "data": {
      "text/plain": [
       "<Axes: xlabel='ps_logit', ylabel='Count'>"
      ]
     },
     "execution_count": 43,
     "metadata": {},
     "output_type": "execute_result"
    },
    {
     "data": {
      "image/png": "[encoded data removed]",
      "text/plain": [
       "<Figure size 2500x1200 with 1 Axes>"
      ]
     },
     "metadata": {},
     "output_type": "display_data"
    }
   ],
   "source": [
    "sns.histplot(data=data_matching, x='ps_logit', hue='tech_support')"
   ]
  },
  {
   "cell_type": "code",
   "execution_count": 86,
   "metadata": {},
   "outputs": [
    {
     "name": "stdout",
     "output_type": "stream",
     "text": [
      "caliper (radius) is: 0.0163\n"
     ]
    },
    {
     "data": {
      "text/plain": [
       "NearestNeighbors(radius=0.01632885676220617)"
      ]
     },
     "execution_count": 86,
     "metadata": {},
     "output_type": "execute_result"
    }
   ],
   "source": [
    "\n",
    "\n",
    "\n",
    "caliper = np.std(data_matching.ps) * 0.25\n",
    "print(f'caliper (radius) is: {caliper:.4f}')\n",
    "\n",
    "n_neighbors = 5\n",
    "\n",
    "# setup knn\n",
    "knn = NearestNeighbors(n_neighbors=n_neighbors, radius=caliper)\n",
    "\n",
    "ps = data_matching[['ps']]  # double brackets as a dataframe\n",
    "knn.fit(ps)"
   ]
  },
  {
   "cell_type": "code",
   "execution_count": 87,
   "metadata": {},
   "outputs": [
    {
     "name": "stdout",
     "output_type": "stream",
     "text": [
      "(2000, 5)\n",
      "[0.00000000e+00 2.97316720e-05 6.53152797e-05 1.31436817e-04\n",
      " 2.82348141e-04]\n",
      "[   0 1785  844  236  166]\n"
     ]
    }
   ],
   "source": [
    "distances, neighbor_indexes = knn.kneighbors(ps)\n",
    "\n",
    "print(neighbor_indexes.shape)\n",
    "\n",
    "# the 10 closest points to the first point\n",
    "print(distances[0])\n",
    "print(neighbor_indexes[0])"
   ]
  },
  {
   "cell_type": "code",
   "execution_count": 88,
   "metadata": {},
   "outputs": [],
   "source": [
    "matched_control = []  # keep track of the matched observations in control\n",
    "\n",
    "for current_index, row in data_matching.iterrows():  \n",
    "    if row.tech_support == 0:  # the current row is in the control group\n",
    "        data_matching.loc[current_index, 'matched'] = np.nan  # set matched to nan\n",
    "    else: \n",
    "        for idx in neighbor_indexes[current_index, :]: # for each row in treatment, find the k neighbors\n",
    "            # make sure the current row is not the idx - don't match to itself\n",
    "            # and the neighbor is in the control \n",
    "            if (current_index != idx) and (data_matching.loc[idx].tech_support == 0):\n",
    "                if idx not in matched_control:  # this control has not been matched yet\n",
    "                    data_matching.loc[current_index, 'matched'] = idx  # record the matching\n",
    "                    matched_control.append(idx)  # add the matched to the list\n",
    "                    break"
   ]
  },
  {
   "cell_type": "code",
   "execution_count": 89,
   "metadata": {},
   "outputs": [
    {
     "name": "stdout",
     "output_type": "stream",
     "text": [
      "total observations in treatment: 1006\n",
      "total matched observations in control: 596\n"
     ]
    }
   ],
   "source": [
    "# try to increase the number of neighbors and/or caliper to get more matches\n",
    "print('total observations in treatment:', len(data_matching[data_matching.tech_support==1]))\n",
    "print('total matched observations in control:', len(matched_control))"
   ]
  },
  {
   "cell_type": "code",
   "execution_count": 90,
   "metadata": {},
   "outputs": [
    {
     "data": {
      "text/plain": [
       "global_flag           0\n",
       "major_flag            0\n",
       "smc_flag              0\n",
       "commercial_flag       0\n",
       "it_spend              0\n",
       "employee_count        0\n",
       "pc_count              0\n",
       "size                  0\n",
       "tech_support          0\n",
       "discount              0\n",
       "revenue               0\n",
       "ps                    0\n",
       "ps_logit              0\n",
       "matched            1199\n",
       "dtype: int64"
      ]
     },
     "execution_count": 90,
     "metadata": {},
     "output_type": "execute_result"
    }
   ],
   "source": [
    "data_matching.isna().sum()"
   ]
  },
  {
   "cell_type": "code",
   "execution_count": 91,
   "metadata": {},
   "outputs": [
    {
     "data": {
      "text/plain": [
       "1    801\n",
       "0    801\n",
       "Name: tech_support, dtype: int64"
      ]
     },
     "execution_count": 91,
     "metadata": {},
     "output_type": "execute_result"
    }
   ],
   "source": [
    "# control have no match\n",
    "treatment_matched = data_matching.dropna(subset=['matched'])  # drop not matched\n",
    "\n",
    "# matched control observation indexes\n",
    "control_matched_idx = treatment_matched.matched\n",
    "control_matched_idx = control_matched_idx.astype(int)  # change to int\n",
    "control_matched = data_matching.loc[control_matched_idx, :]  # select matched control observations\n",
    "\n",
    "# combine the matched treatment and control\n",
    "data_matched = pd.concat([treatment_matched, control_matched])\n",
    "\n",
    "data_matched.tech_support.value_counts()"
   ]
  },
  {
   "cell_type": "code",
   "execution_count": 104,
   "metadata": {},
   "outputs": [
    {
     "data": {
      "text/html": [
       "<div>\n",
       "<style scoped>\n",
       "    .dataframe tbody tr th:only-of-type {\n",
       "        vertical-align: middle;\n",
       "    }\n",
       "\n",
       "    .dataframe tbody tr th {\n",
       "        vertical-align: top;\n",
       "    }\n",
       "\n",
       "    .dataframe thead th {\n",
       "        text-align: right;\n",
       "    }\n",
       "</style>\n",
       "<table border=\"1\" class=\"dataframe\">\n",
       "  <thead>\n",
       "    <tr style=\"text-align: right;\">\n",
       "      <th></th>\n",
       "      <th>Control</th>\n",
       "      <th>Treatment</th>\n",
       "      <th>SMD</th>\n",
       "    </tr>\n",
       "    <tr>\n",
       "      <th>Variable</th>\n",
       "      <th></th>\n",
       "      <th></th>\n",
       "      <th></th>\n",
       "    </tr>\n",
       "  </thead>\n",
       "  <tbody>\n",
       "    <tr>\n",
       "      <th>n</th>\n",
       "      <td>801</td>\n",
       "      <td>801</td>\n",
       "      <td></td>\n",
       "    </tr>\n",
       "    <tr>\n",
       "      <th>commercial_flag</th>\n",
       "      <td>0.72 (0.45)</td>\n",
       "      <td>0.67 (0.47)</td>\n",
       "      <td>-0.103</td>\n",
       "    </tr>\n",
       "    <tr>\n",
       "      <th>discount</th>\n",
       "      <td>0.51 (0.50)</td>\n",
       "      <td>0.49 (0.50)</td>\n",
       "      <td>-0.037</td>\n",
       "    </tr>\n",
       "    <tr>\n",
       "      <th>employee_count</th>\n",
       "      <td>59.37 (55.30)</td>\n",
       "      <td>62.31 (52.41)</td>\n",
       "      <td>0.055</td>\n",
       "    </tr>\n",
       "    <tr>\n",
       "      <th>global_flag</th>\n",
       "      <td>0.18 (0.39)</td>\n",
       "      <td>0.21 (0.41)</td>\n",
       "      <td>0.069</td>\n",
       "    </tr>\n",
       "    <tr>\n",
       "      <th>it_spend</th>\n",
       "      <td>27518.15 (24972.81)</td>\n",
       "      <td>27748.58 (26007.31)</td>\n",
       "      <td>0.009</td>\n",
       "    </tr>\n",
       "    <tr>\n",
       "      <th>major_flag</th>\n",
       "      <td>0.18 (0.39)</td>\n",
       "      <td>0.23 (0.42)</td>\n",
       "      <td>0.102</td>\n",
       "    </tr>\n",
       "    <tr>\n",
       "      <th>pc_count</th>\n",
       "      <td>56.25 (55.17)</td>\n",
       "      <td>57.98 (51.57)</td>\n",
       "      <td>0.032</td>\n",
       "    </tr>\n",
       "    <tr>\n",
       "      <th>size</th>\n",
       "      <td>109133.90 (86281.10)</td>\n",
       "      <td>109347.26 (87272.49)</td>\n",
       "      <td>0.003</td>\n",
       "    </tr>\n",
       "    <tr>\n",
       "      <th>smc_flag</th>\n",
       "      <td>0.52 (0.50)</td>\n",
       "      <td>0.51 (0.50)</td>\n",
       "      <td>-0.028</td>\n",
       "    </tr>\n",
       "  </tbody>\n",
       "</table>\n",
       "</div>"
      ],
      "text/plain": [
       "                              Control             Treatment    SMD\n",
       "Variable                                                          \n",
       "n                                 801                   801       \n",
       "commercial_flag           0.72 (0.45)           0.67 (0.47) -0.103\n",
       "discount                  0.51 (0.50)           0.49 (0.50) -0.037\n",
       "employee_count          59.37 (55.30)         62.31 (52.41)  0.055\n",
       "global_flag               0.18 (0.39)           0.21 (0.41)  0.069\n",
       "it_spend          27518.15 (24972.81)   27748.58 (26007.31)  0.009\n",
       "major_flag                0.18 (0.39)           0.23 (0.42)  0.102\n",
       "pc_count                56.25 (55.17)         57.98 (51.57)  0.032\n",
       "size             109133.90 (86281.10)  109347.26 (87272.49)  0.003\n",
       "smc_flag                  0.52 (0.50)           0.51 (0.50) -0.028"
      ]
     },
     "execution_count": 104,
     "metadata": {},
     "output_type": "execute_result"
    }
   ],
   "source": [
    "X = ['global_flag', 'major_flag', 'smc_flag', 'commercial_flag', 'it_spend',\n",
    "       'employee_count', 'pc_count', 'size', 'discount']\n",
    "table1 = create_table_one(data_matched, 'tech_support', X)\n",
    "table1"
   ]
  },
  {
   "cell_type": "code",
   "execution_count": 94,
   "metadata": {},
   "outputs": [],
   "source": [
    "# matched control and treatment\n",
    "data_matched_control = data_matched[data_matched.tech_support==0]\n",
    "data_matched_treatment = data_matched[data_matched.tech_support==1]"
   ]
  },
  {
   "cell_type": "code",
   "execution_count": 103,
   "metadata": {},
   "outputs": [
    {
     "name": "stdout",
     "output_type": "stream",
     "text": [
      "11119.802843439074 18319.996517328338\n",
      "0.6475109114131042\n",
      "p=0.000\n",
      "different distributions/different group mean (reject H0)\n"
     ]
    }
   ],
   "source": [
    "print(data_matched_control['revenue'].mean(), data_matched_treatment['revenue'].mean())\n",
    "print((np.mean(data_matched_treatment['revenue']) - np.mean(data_matched_control['revenue'])) / np.mean(data_matched_control['revenue']))\n",
    "\n",
    "# compare samples\n",
    "_, p = mannwhitneyu(data_matched_control['revenue'], data_matched_treatment['revenue'])\n",
    "print(f'p={p:.3f}')\n",
    "\n",
    "# interpret\n",
    "alpha = 0.05  # significance level\n",
    "if p > alpha:\n",
    "    print('same distributions/same group mean (fail to reject H0 - we do not have enough evidence to reject H0)')\n",
    "else:\n",
    "    print('different distributions/different group mean (reject H0)')"
   ]
  },
  {
   "attachments": {},
   "cell_type": "markdown",
   "metadata": {},
   "source": [
    "#### 2.2.2. Effect of discount (using PSMPy)"
   ]
  },
  {
   "cell_type": "code",
   "execution_count": 116,
   "metadata": {},
   "outputs": [],
   "source": [
    "psm = PsmPy(data_matching[['tech_support', 'discount', 'revenue', 'size', 'it_spend']].reset_index(), treatment='discount', indx='index', exclude=['revenue'])"
   ]
  },
  {
   "cell_type": "code",
   "execution_count": 117,
   "metadata": {},
   "outputs": [],
   "source": [
    "psm.logistic_ps(balance = True)"
   ]
  },
  {
   "cell_type": "code",
   "execution_count": 140,
   "metadata": {},
   "outputs": [
    {
     "data": {
      "image/png": "[encoded data removed]",
      "text/plain": [
       "<Figure size 2500x1200 with 1 Axes>"
      ]
     },
     "metadata": {},
     "output_type": "display_data"
    }
   ],
   "source": [
    "psm.plot_match(Title='Side by side matched controls', Ylabel='Number of clients', Xlabel= 'Propensity logit', names = ['treatment', 'control'], colors=['#E69F00', '#56B4E9'] ,save=False)"
   ]
  },
  {
   "cell_type": "code",
   "execution_count": 120,
   "metadata": {},
   "outputs": [
    {
     "data": {
      "image/png": "[encoded data removed]",
      "text/plain": [
       "<Figure size 2500x1200 with 1 Axes>"
      ]
     },
     "metadata": {},
     "output_type": "display_data"
    }
   ],
   "source": [
    "psm.effect_size_plot(save=False)"
   ]
  },
  {
   "cell_type": "code",
   "execution_count": 139,
   "metadata": {},
   "outputs": [
    {
     "data": {
      "text/html": [
       "<div>\n",
       "<style scoped>\n",
       "    .dataframe tbody tr th:only-of-type {\n",
       "        vertical-align: middle;\n",
       "    }\n",
       "\n",
       "    .dataframe tbody tr th {\n",
       "        vertical-align: top;\n",
       "    }\n",
       "\n",
       "    .dataframe thead th {\n",
       "        text-align: right;\n",
       "    }\n",
       "</style>\n",
       "<table border=\"1\" class=\"dataframe\">\n",
       "  <thead>\n",
       "    <tr style=\"text-align: right;\">\n",
       "      <th></th>\n",
       "      <th>Control</th>\n",
       "      <th>Treatment</th>\n",
       "      <th>SMD</th>\n",
       "    </tr>\n",
       "    <tr>\n",
       "      <th>Variable</th>\n",
       "      <th></th>\n",
       "      <th></th>\n",
       "      <th></th>\n",
       "    </tr>\n",
       "  </thead>\n",
       "  <tbody>\n",
       "    <tr>\n",
       "      <th>n</th>\n",
       "      <td>881</td>\n",
       "      <td>881</td>\n",
       "      <td></td>\n",
       "    </tr>\n",
       "    <tr>\n",
       "      <th>commercial_flag</th>\n",
       "      <td>0.69 (0.46)</td>\n",
       "      <td>0.68 (0.46)</td>\n",
       "      <td>-0.022</td>\n",
       "    </tr>\n",
       "    <tr>\n",
       "      <th>employee_count</th>\n",
       "      <td>59.65 (52.27)</td>\n",
       "      <td>61.48 (52.89)</td>\n",
       "      <td>0.035</td>\n",
       "    </tr>\n",
       "    <tr>\n",
       "      <th>global_flag</th>\n",
       "      <td>0.21 (0.41)</td>\n",
       "      <td>0.20 (0.40)</td>\n",
       "      <td>-0.028</td>\n",
       "    </tr>\n",
       "    <tr>\n",
       "      <th>it_spend</th>\n",
       "      <td>23840.36 (24736.96)</td>\n",
       "      <td>29021.01 (27582.42)</td>\n",
       "      <td>0.198</td>\n",
       "    </tr>\n",
       "    <tr>\n",
       "      <th>major_flag</th>\n",
       "      <td>0.21 (0.41)</td>\n",
       "      <td>0.18 (0.39)</td>\n",
       "      <td>-0.069</td>\n",
       "    </tr>\n",
       "    <tr>\n",
       "      <th>pc_count</th>\n",
       "      <td>55.39 (50.21)</td>\n",
       "      <td>57.94 (52.83)</td>\n",
       "      <td>0.049</td>\n",
       "    </tr>\n",
       "    <tr>\n",
       "      <th>size</th>\n",
       "      <td>93470.25 (80075.38)</td>\n",
       "      <td>108677.76 (85841.06)</td>\n",
       "      <td>0.183</td>\n",
       "    </tr>\n",
       "    <tr>\n",
       "      <th>smc_flag</th>\n",
       "      <td>0.51 (0.50)</td>\n",
       "      <td>0.50 (0.50)</td>\n",
       "      <td>-0.011</td>\n",
       "    </tr>\n",
       "    <tr>\n",
       "      <th>tech_support</th>\n",
       "      <td>0.47 (0.50)</td>\n",
       "      <td>0.50 (0.50)</td>\n",
       "      <td>0.059</td>\n",
       "    </tr>\n",
       "  </tbody>\n",
       "</table>\n",
       "</div>"
      ],
      "text/plain": [
       "                             Control             Treatment    SMD\n",
       "Variable                                                         \n",
       "n                                881                   881       \n",
       "commercial_flag          0.69 (0.46)           0.68 (0.46) -0.022\n",
       "employee_count         59.65 (52.27)         61.48 (52.89)  0.035\n",
       "global_flag              0.21 (0.41)           0.20 (0.40) -0.028\n",
       "it_spend         23840.36 (24736.96)   29021.01 (27582.42)  0.198\n",
       "major_flag               0.21 (0.41)           0.18 (0.39) -0.069\n",
       "pc_count               55.39 (50.21)         57.94 (52.83)  0.049\n",
       "size             93470.25 (80075.38)  108677.76 (85841.06)  0.183\n",
       "smc_flag                 0.51 (0.50)           0.50 (0.50) -0.011\n",
       "tech_support             0.47 (0.50)           0.50 (0.50)  0.059"
      ]
     },
     "execution_count": 139,
     "metadata": {},
     "output_type": "execute_result"
    }
   ],
   "source": [
    "X = ['global_flag', 'major_flag', 'smc_flag', 'commercial_flag', 'it_spend',\n",
    "       'employee_count', 'pc_count', 'size', 'tech_support']\n",
    "table1 = create_table_one(data_matched, 'discount', X)\n",
    "table1"
   ]
  },
  {
   "cell_type": "code",
   "execution_count": 133,
   "metadata": {},
   "outputs": [],
   "source": [
    "ids = psm.matched_ids['index'].to_list() + psm.matched_ids['matched_ID'].astype('int64').to_list()"
   ]
  },
  {
   "cell_type": "code",
   "execution_count": 129,
   "metadata": {},
   "outputs": [
    {
     "data": {
      "text/html": [
       "<div>\n",
       "<style scoped>\n",
       "    .dataframe tbody tr th:only-of-type {\n",
       "        vertical-align: middle;\n",
       "    }\n",
       "\n",
       "    .dataframe tbody tr th {\n",
       "        vertical-align: top;\n",
       "    }\n",
       "\n",
       "    .dataframe thead th {\n",
       "        text-align: right;\n",
       "    }\n",
       "</style>\n",
       "<table border=\"1\" class=\"dataframe\">\n",
       "  <thead>\n",
       "    <tr style=\"text-align: right;\">\n",
       "      <th></th>\n",
       "      <th>index</th>\n",
       "      <th>tech_support</th>\n",
       "      <th>size</th>\n",
       "      <th>it_spend</th>\n",
       "      <th>propensity_score</th>\n",
       "      <th>propensity_logit</th>\n",
       "      <th>discount</th>\n",
       "      <th>matched_ID</th>\n",
       "    </tr>\n",
       "  </thead>\n",
       "  <tbody>\n",
       "    <tr>\n",
       "      <th>0</th>\n",
       "      <td>56</td>\n",
       "      <td>1</td>\n",
       "      <td>60369</td>\n",
       "      <td>17049</td>\n",
       "      <td>0.540</td>\n",
       "      <td>0.158</td>\n",
       "      <td>0</td>\n",
       "      <td>846.000</td>\n",
       "    </tr>\n",
       "    <tr>\n",
       "      <th>1</th>\n",
       "      <td>77</td>\n",
       "      <td>0</td>\n",
       "      <td>12868</td>\n",
       "      <td>2867</td>\n",
       "      <td>0.508</td>\n",
       "      <td>0.032</td>\n",
       "      <td>0</td>\n",
       "      <td>584.000</td>\n",
       "    </tr>\n",
       "    <tr>\n",
       "      <th>2</th>\n",
       "      <td>152</td>\n",
       "      <td>0</td>\n",
       "      <td>27353</td>\n",
       "      <td>9867</td>\n",
       "      <td>0.519</td>\n",
       "      <td>0.076</td>\n",
       "      <td>0</td>\n",
       "      <td>1261.000</td>\n",
       "    </tr>\n",
       "    <tr>\n",
       "      <th>3</th>\n",
       "      <td>155</td>\n",
       "      <td>1</td>\n",
       "      <td>21975</td>\n",
       "      <td>7671</td>\n",
       "      <td>0.515</td>\n",
       "      <td>0.060</td>\n",
       "      <td>0</td>\n",
       "      <td>756.000</td>\n",
       "    </tr>\n",
       "    <tr>\n",
       "      <th>4</th>\n",
       "      <td>175</td>\n",
       "      <td>1</td>\n",
       "      <td>44931</td>\n",
       "      <td>13657</td>\n",
       "      <td>0.530</td>\n",
       "      <td>0.120</td>\n",
       "      <td>0</td>\n",
       "      <td>1018.000</td>\n",
       "    </tr>\n",
       "    <tr>\n",
       "      <th>...</th>\n",
       "      <td>...</td>\n",
       "      <td>...</td>\n",
       "      <td>...</td>\n",
       "      <td>...</td>\n",
       "      <td>...</td>\n",
       "      <td>...</td>\n",
       "      <td>...</td>\n",
       "      <td>...</td>\n",
       "    </tr>\n",
       "    <tr>\n",
       "      <th>1756</th>\n",
       "      <td>1114</td>\n",
       "      <td>1</td>\n",
       "      <td>147592</td>\n",
       "      <td>19511</td>\n",
       "      <td>0.617</td>\n",
       "      <td>0.476</td>\n",
       "      <td>1</td>\n",
       "      <td>NaN</td>\n",
       "    </tr>\n",
       "    <tr>\n",
       "      <th>1757</th>\n",
       "      <td>1145</td>\n",
       "      <td>1</td>\n",
       "      <td>146996</td>\n",
       "      <td>19168</td>\n",
       "      <td>0.617</td>\n",
       "      <td>0.477</td>\n",
       "      <td>1</td>\n",
       "      <td>NaN</td>\n",
       "    </tr>\n",
       "    <tr>\n",
       "      <th>1758</th>\n",
       "      <td>455</td>\n",
       "      <td>1</td>\n",
       "      <td>148376</td>\n",
       "      <td>19215</td>\n",
       "      <td>0.618</td>\n",
       "      <td>0.482</td>\n",
       "      <td>1</td>\n",
       "      <td>NaN</td>\n",
       "    </tr>\n",
       "    <tr>\n",
       "      <th>1759</th>\n",
       "      <td>1579</td>\n",
       "      <td>1</td>\n",
       "      <td>257270</td>\n",
       "      <td>72987</td>\n",
       "      <td>0.618</td>\n",
       "      <td>0.483</td>\n",
       "      <td>1</td>\n",
       "      <td>NaN</td>\n",
       "    </tr>\n",
       "    <tr>\n",
       "      <th>1760</th>\n",
       "      <td>468</td>\n",
       "      <td>1</td>\n",
       "      <td>303089</td>\n",
       "      <td>95504</td>\n",
       "      <td>0.619</td>\n",
       "      <td>0.484</td>\n",
       "      <td>1</td>\n",
       "      <td>NaN</td>\n",
       "    </tr>\n",
       "  </tbody>\n",
       "</table>\n",
       "<p>1761 rows × 8 columns</p>\n",
       "</div>"
      ],
      "text/plain": [
       "      index  tech_support    size  it_spend  propensity_score  propensity_logit  discount  matched_ID\n",
       "0        56             1   60369     17049             0.540             0.158         0     846.000\n",
       "1        77             0   12868      2867             0.508             0.032         0     584.000\n",
       "2       152             0   27353      9867             0.519             0.076         0    1261.000\n",
       "3       155             1   21975      7671             0.515             0.060         0     756.000\n",
       "4       175             1   44931     13657             0.530             0.120         0    1018.000\n",
       "...     ...           ...     ...       ...               ...               ...       ...         ...\n",
       "1756   1114             1  147592     19511             0.617             0.476         1         NaN\n",
       "1757   1145             1  146996     19168             0.617             0.477         1         NaN\n",
       "1758    455             1  148376     19215             0.618             0.482         1         NaN\n",
       "1759   1579             1  257270     72987             0.618             0.483         1         NaN\n",
       "1760    468             1  303089     95504             0.619             0.484         1         NaN\n",
       "\n",
       "[1761 rows x 8 columns]"
      ]
     },
     "execution_count": 129,
     "metadata": {},
     "output_type": "execute_result"
    }
   ],
   "source": [
    "psm.df_matched"
   ]
  },
  {
   "cell_type": "code",
   "execution_count": 135,
   "metadata": {},
   "outputs": [],
   "source": [
    "data_matched = data_matching.iloc[ids].drop(columns=['ps', 'ps_logit', 'matched'])"
   ]
  },
  {
   "cell_type": "code",
   "execution_count": 136,
   "metadata": {},
   "outputs": [],
   "source": [
    "# matched control and treatment\n",
    "data_matched_control = data_matched[data_matched.discount==0]\n",
    "data_matched_treatment = data_matched[data_matched.discount==1]"
   ]
  },
  {
   "cell_type": "code",
   "execution_count": 137,
   "metadata": {},
   "outputs": [
    {
     "name": "stdout",
     "output_type": "stream",
     "text": [
      "10778.557082356525 17111.696761541203\n",
      "0.5875684129883606\n",
      "p=0.000\n",
      "different distributions/different group mean (reject H0)\n"
     ]
    }
   ],
   "source": [
    "print(data_matched_control['revenue'].mean(), data_matched_treatment['revenue'].mean())\n",
    "print((np.mean(data_matched_treatment['revenue']) - np.mean(data_matched_control['revenue'])) / np.mean(data_matched_control['revenue']))\n",
    "\n",
    "# compare samples\n",
    "_, p = mannwhitneyu(data_matched_control['revenue'], data_matched_treatment['revenue'])\n",
    "print(f'p={p:.3f}')\n",
    "\n",
    "# interpret\n",
    "alpha = 0.05  # significance level\n",
    "if p > alpha:\n",
    "    print('same distributions/same group mean (fail to reject H0 - we do not have enough evidence to reject H0)')\n",
    "else:\n",
    "    print('different distributions/different group mean (reject H0)')"
   ]
  },
  {
   "attachments": {},
   "cell_type": "markdown",
   "metadata": {},
   "source": [
    "Here, we employed two different methods to examine the causal impact of each treatment. By comparing the initial (naive) results to the refined approach, we discovered that the direct effect of each treatment on revenue is comparatively smaller. In the case of tech support, the average treatment effect was just under half of the original value, which is nearly identical to the effect of the discount. Had we relied solely on the first method of comparing mean differences, we may have incorrectly assumed that tech support was significantly more effective than the discount. However, a more thorough inferential analysis revealed that both treatments yielded comparable results, with each resulting in approximately a 60% increase in revenue."
   ]
  }
 ],
 "metadata": {
  "kernelspec": {
   "display_name": "inferencia_causal_venv",
   "language": "python",
   "name": "python3"
  },
  "language_info": {
   "codemirror_mode": {
    "name": "ipython",
    "version": 3
   },
   "file_extension": ".py",
   "mimetype": "text/x-python",
   "name": "python",
   "nbconvert_exporter": "python",
   "pygments_lexer": "ipython3",
   "version": "3.8.8"
  },
  "orig_nbformat": 4,
  "vscode": {
   "interpreter": {
    "hash": "6785fac08eebdf1b4544b66a1183d7720fa28dffb6bc9cef5868036e1c7e2b22"
   }
  }
 },
 "nbformat": 4,
 "nbformat_minor": 2
}
